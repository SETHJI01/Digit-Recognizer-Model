{
  "nbformat": 4,
  "nbformat_minor": 0,
  "metadata": {
    "colab": {
      "name": "mnist.ipynb",
      "provenance": []
    },
    "kernelspec": {
      "name": "python3",
      "display_name": "Python 3"
    },
    "language_info": {
      "name": "python"
    }
  },
  "cells": [
    {
      "cell_type": "markdown",
      "metadata": {
        "id": "LkPFxdl9upTX"
      },
      "source": [
        "### Importing the required Libraries and Datasets"
      ]
    },
    {
      "cell_type": "code",
      "metadata": {
        "id": "GfFME-AsabAn"
      },
      "source": [
        "from tensorflow import keras\n",
        "from keras.datasets import mnist\n",
        "from keras.models import Sequential\n",
        "from keras.layers import Dense, Dropout, Flatten\n",
        "from keras.layers import Conv2D, MaxPooling2D\n",
        "from keras import backend as K"
      ],
      "execution_count": null,
      "outputs": []
    },
    {
      "cell_type": "markdown",
      "metadata": {
        "id": "vXEWP2Ogu7qV"
      },
      "source": [
        "### Hyperparameters"
      ]
    },
    {
      "cell_type": "code",
      "metadata": {
        "id": "VKqp2A3qagLj"
      },
      "source": [
        "num_classes = 10\n",
        "batch_size = 128\n",
        "epochs = 12"
      ],
      "execution_count": null,
      "outputs": []
    },
    {
      "cell_type": "markdown",
      "metadata": {
        "id": "Vh3AH4NLvERK"
      },
      "source": [
        "### Loding The images form MNIST dataset"
      ]
    },
    {
      "cell_type": "code",
      "metadata": {
        "id": "48cA6B6dai0p"
      },
      "source": [
        "# Image Resolution\n",
        "img_rows, img_cols = 28, 28\n",
        "# Loading the data.\n",
        "(x_train, y_train), (x_test, y_test) = mnist.load_data()"
      ],
      "execution_count": null,
      "outputs": []
    },
    {
      "cell_type": "markdown",
      "metadata": {
        "id": "J4x2HIpMvTcs"
      },
      "source": [
        "### Data Preprocessing"
      ]
    },
    {
      "cell_type": "code",
      "metadata": {
        "colab": {
          "base_uri": "https://localhost:8080/"
        },
        "id": "8kSAS8Zdai3H",
        "outputId": "220602dd-9267-4d7e-8201-8d6e095b78b1"
      },
      "source": [
        "# Preparing the data\n",
        "\n",
        "if K.image_data_format() == 'channels_first':\n",
        "    x_train = x_train.reshape(x_train.shape[0], 1, img_rows, img_cols)\n",
        "    x_test = x_test.reshape(x_test.shape[0], 1, img_rows, img_cols)\n",
        "    input_shape = (1, img_rows, img_cols)\n",
        "else:\n",
        "    x_train = x_train.reshape(x_train.shape[0], img_rows, img_cols, 1)\n",
        "    x_test = x_test.reshape(x_test.shape[0], img_rows, img_cols, 1)\n",
        "    input_shape = (img_rows, img_cols, 1)\n",
        "\n",
        "x_train = x_train.astype('float32')\n",
        "x_test = x_test.astype('float32')\n",
        "x_train /= 255\n",
        "x_test /= 255\n",
        "print('x_train shape:', x_train.shape)\n",
        "print(x_train.shape[0], 'train samples')\n",
        "print(x_test.shape[0], 'test samples')\n",
        "\n",
        "y_train = keras.utils.to_categorical(y_train, num_classes)\n",
        "y_test = keras.utils.to_categorical(y_test, num_classes)"
      ],
      "execution_count": null,
      "outputs": [
        {
          "output_type": "stream",
          "text": [
            "x_train shape: (60000, 28, 28, 1)\n",
            "60000 train samples\n",
            "10000 test samples\n"
          ],
          "name": "stdout"
        }
      ]
    },
    {
      "cell_type": "markdown",
      "metadata": {
        "id": "nGlX-wwKvaF0"
      },
      "source": [
        "### Creation Of the CNN Model "
      ]
    },
    {
      "cell_type": "code",
      "metadata": {
        "id": "r4rlwYThai5H"
      },
      "source": [
        "model = Sequential()\n",
        "model.add(Conv2D(32, kernel_size=(3, 3),activation='relu',input_shape=input_shape))\n",
        "model.add(Conv2D(64, (3, 3), activation='relu'))\n",
        "model.add(MaxPooling2D(pool_size=(2, 2)))\n",
        "model.add(Dropout(0.25))\n",
        "model.add(Flatten())\n",
        "model.add(Dense(128, activation='relu'))\n",
        "model.add(Dropout(0.5))\n",
        "model.add(Dense(num_classes, activation='softmax'))\n",
        "model.compile(loss=keras.losses.categorical_crossentropy,\n",
        "              optimizer=keras.optimizers.Adadelta(),\n",
        "              metrics=['accuracy'])"
      ],
      "execution_count": null,
      "outputs": []
    },
    {
      "cell_type": "markdown",
      "metadata": {
        "id": "8Vi1E8uIv0Et"
      },
      "source": [
        "### Training The Mdel"
      ]
    },
    {
      "cell_type": "code",
      "metadata": {
        "colab": {
          "base_uri": "https://localhost:8080/"
        },
        "id": "oTjeYPb3ai7V",
        "outputId": "5642dfa2-7206-4aff-a5c6-f1a0a4a84f94"
      },
      "source": [
        "model.fit(x_train, y_train,\n",
        "          batch_size=batch_size,\n",
        "          epochs=epochs,\n",
        "          verbose=1,\n",
        "          validation_data=(x_test, y_test))"
      ],
      "execution_count": null,
      "outputs": [
        {
          "output_type": "stream",
          "text": [
            "Epoch 1/12\n",
            "469/469 [==============================] - 130s 247ms/step - loss: 2.2988 - accuracy: 0.1253 - val_loss: 2.2630 - val_accuracy: 0.2808\n",
            "Epoch 2/12\n",
            "469/469 [==============================] - 116s 248ms/step - loss: 2.2577 - accuracy: 0.2237 - val_loss: 2.2098 - val_accuracy: 0.4238\n",
            "Epoch 3/12\n",
            "469/469 [==============================] - 116s 247ms/step - loss: 2.2063 - accuracy: 0.3137 - val_loss: 2.1360 - val_accuracy: 0.5208\n",
            "Epoch 4/12\n",
            "469/469 [==============================] - 116s 248ms/step - loss: 2.1328 - accuracy: 0.3887 - val_loss: 2.0341 - val_accuracy: 0.6045\n",
            "Epoch 5/12\n",
            "469/469 [==============================] - 116s 248ms/step - loss: 2.0322 - accuracy: 0.4621 - val_loss: 1.8961 - val_accuracy: 0.6741\n",
            "Epoch 6/12\n",
            "469/469 [==============================] - 117s 249ms/step - loss: 1.9060 - accuracy: 0.5179 - val_loss: 1.7190 - val_accuracy: 0.7193\n",
            "Epoch 7/12\n",
            "469/469 [==============================] - 117s 249ms/step - loss: 1.7403 - accuracy: 0.5704 - val_loss: 1.5132 - val_accuracy: 0.7513\n",
            "Epoch 8/12\n",
            "469/469 [==============================] - 117s 249ms/step - loss: 1.5603 - accuracy: 0.6069 - val_loss: 1.3065 - val_accuracy: 0.7729\n",
            "Epoch 9/12\n",
            "469/469 [==============================] - 117s 250ms/step - loss: 1.3929 - accuracy: 0.6330 - val_loss: 1.1242 - val_accuracy: 0.7891\n",
            "Epoch 10/12\n",
            "469/469 [==============================] - 117s 250ms/step - loss: 1.2556 - accuracy: 0.6548 - val_loss: 0.9789 - val_accuracy: 0.8026\n",
            "Epoch 11/12\n",
            "469/469 [==============================] - 117s 250ms/step - loss: 1.1429 - accuracy: 0.6798 - val_loss: 0.8663 - val_accuracy: 0.8173\n",
            "Epoch 12/12\n",
            "469/469 [==============================] - 117s 250ms/step - loss: 1.0456 - accuracy: 0.6953 - val_loss: 0.7799 - val_accuracy: 0.8271\n"
          ],
          "name": "stdout"
        },
        {
          "output_type": "execute_result",
          "data": {
            "text/plain": [
              "<keras.callbacks.History at 0x7fb9a7cca910>"
            ]
          },
          "metadata": {
            "tags": []
          },
          "execution_count": 11
        }
      ]
    },
    {
      "cell_type": "markdown",
      "metadata": {
        "id": "Tck7PTnUv7W-"
      },
      "source": [
        "### Evaluating The Model"
      ]
    },
    {
      "cell_type": "code",
      "metadata": {
        "colab": {
          "base_uri": "https://localhost:8080/"
        },
        "id": "-vLZjETVai_Y",
        "outputId": "d859252c-dc5c-4d64-b024-51109424cfb0"
      },
      "source": [
        "# Evaluating the Predictions on the Model\n",
        "score = model.evaluate(x_test, y_test, verbose=0)\n",
        "print('Test loss:', score[0])\n",
        "print('Test accuracy:', score[1])"
      ],
      "execution_count": null,
      "outputs": [
        {
          "output_type": "stream",
          "text": [
            "Test loss: 0.7798999547958374\n",
            "Test accuracy: 0.8270999789237976\n"
          ],
          "name": "stdout"
        }
      ]
    },
    {
      "cell_type": "markdown",
      "metadata": {
        "id": "1YBVHU1ev_cd"
      },
      "source": [
        "### Saving the Model"
      ]
    },
    {
      "cell_type": "code",
      "metadata": {
        "id": "oQD38AAIbXfH"
      },
      "source": [
        "# Saving the model for Future Inferences\n",
        "\n",
        "model_json = model.to_json()\n",
        "with open(\"model.json\", \"w\") as json_file:\n",
        "    json_file.write(model_json)\n",
        "# serialize weights to HDF5\n",
        "model.save_weights(\"model.h5\")"
      ],
      "execution_count": null,
      "outputs": []
    },
    {
      "cell_type": "code",
      "metadata": {
        "id": "ZFEtfihXmzHV"
      },
      "source": [
        ""
      ],
      "execution_count": null,
      "outputs": []
    }
  ]
}